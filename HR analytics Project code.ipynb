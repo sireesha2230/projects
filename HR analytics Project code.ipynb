{
 "cells": [
  {
   "cell_type": "markdown",
   "metadata": {
    "id": "-X5RArELulSC"
   },
   "source": [
    "# Project Information\n",
    "\n",
    "It is a very basic analytics project for beginners to understand how to explore data to get some insights using python\n",
    "\n",
    "- Library used - Pandas\n",
    "\n",
    "- Data - https://raw.githubusercontent.com/arora123/Data/master/emp-data.csv\n",
    "\n",
    "- Data Description - Name, Gender, Department, Salary, Location & Ratings of 1015 employees [All column names are self explanatory]\n",
    "\n",
    "- Objectives -\n",
    "1. How many Males/Females are there in the entire organization?\n",
    "2. How many Males/Females are there in the each department or for each location?\n",
    "3. For which department is the average Pay highest?\n",
    "4. For which location is the average Pay highest?\n",
    "5. What percentage of employees received good & very good rating? What about poor & very poor rating? and average rating?\n",
    "6. Compute gender pay gap for each department. Interpret\n",
    "7. Compute gender pay gap for each location. Interpret\n",
    "\n"
   ]
  },
  {
   "cell_type": "markdown",
   "metadata": {
    "id": "v4b0fB0XFU9N"
   },
   "source": [
    "# Additional Exercises:\n",
    "\n",
    "1. Use visualization to understand & explore data\n",
    "2. Use statistical methods to explore the relationship/association between the variables\n",
    "- gender & location\n",
    "- gender & department\n",
    "- gender & rating\n",
    "- gender & salary\n",
    "- location & salary\n",
    "- department & salary"
   ]
  },
  {
   "cell_type": "code",
   "execution_count": 3,
   "metadata": {
    "colab": {
     "base_uri": "https://localhost:8080/",
     "height": 206
    },
    "id": "R1hhkBFxHR38",
    "outputId": "f47282bf-d30e-4a26-da74-11c75475ba5d"
   },
   "outputs": [
    {
     "ename": "ModuleNotFoundError",
     "evalue": "No module named 'pandas'",
     "output_type": "error",
     "traceback": [
      "\u001b[1;31m---------------------------------------------------------------------------\u001b[0m",
      "\u001b[1;31mModuleNotFoundError\u001b[0m                       Traceback (most recent call last)",
      "Cell \u001b[1;32mIn[3], line 1\u001b[0m\n\u001b[1;32m----> 1\u001b[0m \u001b[38;5;28;01mimport\u001b[39;00m \u001b[38;5;21;01mpandas\u001b[39;00m \u001b[38;5;28;01mas\u001b[39;00m \u001b[38;5;21;01mpd\u001b[39;00m\n\u001b[0;32m      2\u001b[0m \u001b[38;5;28;01mimport\u001b[39;00m \u001b[38;5;21;01mnumpy\u001b[39;00m \u001b[38;5;28;01mas\u001b[39;00m \u001b[38;5;21;01mnp\u001b[39;00m\n\u001b[0;32m      3\u001b[0m \u001b[38;5;28;01mimport\u001b[39;00m \u001b[38;5;21;01mmatplotlib\u001b[39;00m\u001b[38;5;21;01m.\u001b[39;00m\u001b[38;5;21;01mpyplot\u001b[39;00m \u001b[38;5;28;01mas\u001b[39;00m \u001b[38;5;21;01mplt\u001b[39;00m\n",
      "\u001b[1;31mModuleNotFoundError\u001b[0m: No module named 'pandas'"
     ]
    }
   ],
   "source": [
    "import pandas as pd\n",
    "import numpy as np\n",
    "import matplotlib.pyplot as plt\n",
    "import seaborn as sns\n",
    "import scipy.stats as stats\n",
    "import statsmodels.api as sm\n",
    "df=pd.read_csv(' https://raw.githubusercontent.com/arora123/Data/master/emp-data.csv')\n",
    "df.head()\n"
   ]
  },
  {
   "cell_type": "code",
   "execution_count": null,
   "metadata": {
    "colab": {
     "base_uri": "https://localhost:8080/",
     "height": 178
    },
    "id": "i7bKmrT5JAzL",
    "outputId": "760a7768-fa54-4384-a87e-56b2a63a531f"
   },
   "outputs": [
    {
     "data": {
      "text/html": [
       "<table border=\"1\" class=\"dataframe\">\n",
       "  <thead>\n",
       "    <tr style=\"text-align: right;\">\n",
       "      <th></th>\n",
       "      <th>count</th>\n",
       "    </tr>\n",
       "    <tr>\n",
       "      <th>Gender</th>\n",
       "      <th></th>\n",
       "    </tr>\n",
       "  </thead>\n",
       "  <tbody>\n",
       "    <tr>\n",
       "      <th>Male</th>\n",
       "      <td>501</td>\n",
       "    </tr>\n",
       "    <tr>\n",
       "      <th>Female</th>\n",
       "      <td>471</td>\n",
       "    </tr>\n",
       "  </tbody>\n",
       "</table><br><label><b>dtype:</b> int64</label>"
      ],
      "text/plain": [
       "Gender\n",
       "Male      501\n",
       "Female    471\n",
       "Name: count, dtype: int64"
      ]
     },
     "execution_count": 4,
     "metadata": {},
     "output_type": "execute_result"
    }
   ],
   "source": [
    "#How many Males/Females are there in the entire organization?\n",
    "gender_count=df['Gender'].value_counts()\n",
    "gender_count"
   ]
  },
  {
   "cell_type": "code",
   "execution_count": null,
   "metadata": {
    "colab": {
     "base_uri": "https://localhost:8080/"
    },
    "id": "P0-KwK7vJXWI",
    "outputId": "92251527-9a20-48e8-d612-96caa45a73ea"
   },
   "outputs": [
    {
     "name": "stdout",
     "output_type": "stream",
     "text": [
      "Department                Gender\n",
      "Accounting                Male      40\n",
      "                          Female    30\n",
      "Business Development      Female    42\n",
      "                          Male      38\n",
      "Engineering               Male      38\n",
      "                          Female    38\n",
      "Human Resources           Female    44\n",
      "                          Male      39\n",
      "Legal                     Male      51\n",
      "                          Female    36\n",
      "Marketing                 Male      35\n",
      "                          Female    33\n",
      "Product Management        Male      49\n",
      "                          Female    42\n",
      "Research and Development  Female    39\n",
      "                          Male      34\n",
      "Sales                     Male      41\n",
      "                          Female    38\n",
      "Services                  Female    42\n",
      "                          Male      38\n",
      "Support                   Male      43\n",
      "                          Female    37\n",
      "Training                  Male      40\n",
      "                          Female    38\n",
      "Name: count, dtype: int64\n"
     ]
    }
   ],
   "source": [
    "#How many Males/Females are there in the each department or for each location?\n",
    "gender_count_by_department=df.groupby('Department')['Gender'].value_counts()\n",
    "print(gender_count_by_department)\n"
   ]
  },
  {
   "cell_type": "code",
   "execution_count": null,
   "metadata": {
    "colab": {
     "base_uri": "https://localhost:8080/"
    },
    "id": "NMG_gJ5zJ1p7",
    "outputId": "2e3c174f-6a8f-4f30-e04e-9acb5e02594a"
   },
   "outputs": [
    {
     "name": "stdout",
     "output_type": "stream",
     "text": [
      "Gender       Female  Male\n",
      "Loc                      \n",
      "Bellevue        127   135\n",
      "Los Angeles     176   194\n",
      "Wellington      168   172\n"
     ]
    }
   ],
   "source": [
    "#How many Males/Females are there in the each department or for each location?\n",
    "gender_count_by_location=df.groupby('Loc')['Gender'].value_counts().unstack()\n",
    "print(gender_count_by_location)"
   ]
  },
  {
   "cell_type": "code",
   "execution_count": null,
   "metadata": {
    "colab": {
     "base_uri": "https://localhost:8080/"
    },
    "id": "A0jFisXPLKrb",
    "outputId": "d798cff7-8522-4085-8da4-708acc49bcde"
   },
   "outputs": [
    {
     "name": "stdout",
     "output_type": "stream",
     "text": [
      "1015\n",
      "No valid data\n"
     ]
    }
   ],
   "source": [
    "#For which department is the average Pay highest?\n",
    "df['Salary']=pd.to_numeric(df['Salary'],errors='coerce')\n",
    "missing_values=df['Salary'].isnull().sum()\n",
    "print(missing_values)\n",
    "avg_pay_department=df.groupby('Department')['Salary'].mean()\n",
    "if not avg_pay_department.isnull().all:\n",
    "  highest_avg_pay_department=avg_pay_department.idxmax()\n",
    "  print(highest_avg_pay_department)\n",
    "else:\n",
    "    print('No valid data')\n"
   ]
  },
  {
   "cell_type": "code",
   "execution_count": null,
   "metadata": {
    "colab": {
     "base_uri": "https://localhost:8080/"
    },
    "id": "xPQgpl77NvAJ",
    "outputId": "686f2633-7c07-4833-8655-01c4316f143a"
   },
   "outputs": [
    {
     "name": "stdout",
     "output_type": "stream",
     "text": [
      "Loc\n",
      "Bellevue      NaN\n",
      "Los Angeles   NaN\n",
      "Wellington    NaN\n",
      "Name: Salary, dtype: float64\n",
      "nan\n"
     ]
    },
    {
     "name": "stderr",
     "output_type": "stream",
     "text": [
      "<ipython-input-44-4de202f938c3>:4: FutureWarning: The behavior of Series.idxmax with all-NA values, or any-NA and skipna=False, is deprecated. In a future version this will raise ValueError\n",
      "  highest_paid_location=avg_pay_by_location.idxmax()\n"
     ]
    }
   ],
   "source": [
    "#For which location is the average Pay highest?\n",
    "avg_pay_by_location=df.groupby ('Loc')['Salary'].mean()\n",
    "print(avg_pay_by_location)\n",
    "highest_paid_location=avg_pay_by_location.idxmax()\n",
    "print(highest_paid_location)"
   ]
  },
  {
   "cell_type": "code",
   "execution_count": null,
   "metadata": {
    "colab": {
     "base_uri": "https://localhost:8080/"
    },
    "id": "2kD-7wE0PI4o",
    "outputId": "757a12b7-028c-4d7d-8a22-36148854c2e8"
   },
   "outputs": [
    {
     "name": "stdout",
     "output_type": "stream",
     "text": [
      "Rating\n",
      "Average      45.418719\n",
      "Good         18.817734\n",
      "Poor         13.201970\n",
      "Very Good     9.162562\n",
      "Not Rated     7.783251\n",
      "Very Poor     5.615764\n",
      "Name: proportion, dtype: float64\n"
     ]
    }
   ],
   "source": [
    "#What percentage of employees received good & very good rating? What about poor & very poor rating? and average rating?\n",
    "rating_percentages=df['Rating'].value_counts(normalize=True)*100\n",
    "print(rating_percentages)"
   ]
  },
  {
   "cell_type": "code",
   "execution_count": null,
   "metadata": {
    "id": "vsY45arlPXH6"
   },
   "outputs": [],
   "source": [
    "#Compute gender pay gap for each department. Interpret\n",
    "def gender_pay_gap(group):\n",
    "  male_avg=group[group,['Gender']=='Male']['Salary'].mean()\n",
    "  female_avg=group[group,['Gender']=='Female']['Salary'].mean()\n",
    "  return (male_avg-female_avg)/male_avg*100\n",
    "  pay_gap_by_department=df.groupby('Department').apply(calculate_pay_gap)\n",
    "  print(pay_gap_by_department)\n"
   ]
  },
  {
   "cell_type": "code",
   "execution_count": null,
   "metadata": {
    "id": "YLnMjEJSWIqi"
   },
   "outputs": [],
   "source": [
    "#Compute gender pay gap for each location. Interpret"
   ]
  },
  {
   "cell_type": "code",
   "execution_count": null,
   "metadata": {
    "colab": {
     "base_uri": "https://localhost:8080/",
     "height": 564
    },
    "id": "ULt1lNv8RXdI",
    "outputId": "44be0f2e-a45e-4dfa-dbcc-a87e49ffdbc6"
   },
   "outputs": [
    {
     "data": {
      "image/png": "[encoded data removed]",
      "text/plain": [
       "<Figure size 1000x600 with 1 Axes>"
      ]
     },
     "metadata": {},
     "output_type": "display_data"
    }
   ],
   "source": [
    "import matplotlib.pyplot as plt\n",
    "import seaborn as sns\n",
    "from scipy import stats\n",
    "plt.figure(figsize=(10,6))\n",
    "sns.boxplot(x='Gender',y='Salary',data=df)\n",
    "plt.title('Salary Distribution by Gender')\n",
    "plt.show()"
   ]
  },
  {
   "cell_type": "code",
   "execution_count": null,
   "metadata": {
    "colab": {
     "base_uri": "https://localhost:8080/"
    },
    "id": "KshF6zsuWSeF",
    "outputId": "1e8a9a24-cace-49fc-f00d-825b840499fb"
   },
   "outputs": [
    {
     "name": "stdout",
     "output_type": "stream",
     "text": [
      "chi2=0.24131325713190319,p=0.8863382505836238\n",
      "chi2=5.504004561132479,p=0.9043284554295319\n",
      "chi2=7.842717932420495,p=0.16511942834041662\n",
      "t_statistic=nan,p_value=nan\n",
      "Loc\n",
      "Bellevue      NaN\n",
      "Los Angeles   NaN\n",
      "Wellington    NaN\n",
      "Name: Salary, dtype: float64\n",
      "Department\n",
      "Accounting                 NaN\n",
      "Business Development       NaN\n",
      "Engineering                NaN\n",
      "Human Resources            NaN\n",
      "Legal                      NaN\n",
      "Marketing                  NaN\n",
      "Product Management         NaN\n",
      "Research and Development   NaN\n",
      "Sales                      NaN\n",
      "Services                   NaN\n",
      "Support                    NaN\n",
      "Training                   NaN\n",
      "Name: Salary, dtype: float64\n"
     ]
    }
   ],
   "source": [
    "from scipy import stats\n",
    "#gender and locattion\n",
    "gender_location_crosstab=pd.crosstab(df['Gender'],df['Loc'])\n",
    "chi2,p,dof,expected=stats.chi2_contingency(gender_location_crosstab)\n",
    "print(f'chi2={chi2},p={p}')\n",
    "#gender and department\n",
    "gender_department_crosstab=pd.crosstab(df['Gender'],df['Department'])\n",
    "chi2,p,dof,expected=stats.chi2_contingency(gender_department_crosstab)\n",
    "print(f'chi2={chi2},p={p}')\n",
    "#gender and rating\n",
    "gender_rating_crosstab=pd.crosstab(df['Gender'],df['Rating'])\n",
    "chi2,p,dof,expected=stats.chi2_contingency(gender_rating_crosstab)\n",
    "print(f'chi2={chi2},p={p}')\n",
    "#gender and salary\n",
    "male_salary=df[df['Gender']=='Male']['Salary']\n",
    "female_salary=df[df['Gender']=='Female']['Salary']\n",
    "t_statistic,p_value=stats.ttest_ind(male_salary,female_salary)\n",
    "print(f't_statistic={t_statistic},p_value={p_value}')\n",
    "#location and salary\n",
    "location_salary_anova=df.groupby('Loc')['Salary'].mean()\n",
    "print(location_salary_anova)\n",
    "#department and salary\n",
    "department_salary_anova=df.groupby('Department')['Salary'].mean()\n",
    "print(department_salary_anova)\n",
    "\n"
   ]
  }
 ],
 "metadata": {
  "colab": {
   "provenance": []
  },
  "kernelspec": {
   "display_name": "Python 3",
   "name": "python3"
  },
  "language_info": {
   "codemirror_mode": {
    "name": "ipython",
    "version": 3
   },
   "file_extension": ".py",
   "mimetype": "text/x-python",
   "name": "python",
   "nbconvert_exporter": "python",
   "pygments_lexer": "ipython3",
   "version": "3.11.2"
  }
 },
 "nbformat": 4,
 "nbformat_minor": 0
}
